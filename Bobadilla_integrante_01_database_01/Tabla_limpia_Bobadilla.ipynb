{
  "nbformat": 4,
  "nbformat_minor": 0,
  "metadata": {
    "colab": {
      "provenance": []
    },
    "kernelspec": {
      "name": "python3",
      "display_name": "Python 3"
    },
    "language_info": {
      "name": "python"
    }
  },
  "cells": [
    {
      "cell_type": "code",
      "execution_count": 2,
      "metadata": {
        "colab": {
          "base_uri": "https://localhost:8080/"
        },
        "id": "X64FxsOySCRl",
        "outputId": "98ff930e-defe-4ed5-9ddd-e8aac633d733"
      },
      "outputs": [
        {
          "output_type": "stream",
          "name": "stdout",
          "text": [
            "  Año Comercial;Comuna de la casa matriz;Actividad economica;Número de empresas;Ventas anuales en UF;Renta neta informada en UF  \\\n",
            "0  2019;Las Condes;Restaurantes y de servicio móv...                                                                              \n",
            "1  2019;Providencia;Restaurantes y de servicio mó...                                                                              \n",
            "2  2019;Santiago;Restaurantes y de servicio móvil...                                                                              \n",
            "3  2019;Vitacura;Restaurantes y de servicio móvil...                                                                              \n",
            "4  2019;Ñuñoa;Restaurantes y de servicio móvil de...                                                                              \n",
            "\n",
            "    trabajadores de género femenino;Renta neta informada en UF  \\\n",
            "0                                                NaN             \n",
            "1                                                NaN             \n",
            "2                                                NaN             \n",
            "3                                                NaN             \n",
            "4                                                NaN             \n",
            "\n",
            "    trabajadores de género masculino  \n",
            "0                                NaN  \n",
            "1                                NaN  \n",
            "2                                NaN  \n",
            "3                                NaN  \n",
            "4                                NaN  \n"
          ]
        }
      ],
      "source": [
        "#Cargar csv en un Dataframe de Pandas\n",
        "\n",
        "import pandas as pd\n",
        "datos=pd.read_csv(\"/content/drive/MyDrive/Colab Notebooks/basededatoslimpia.csv\")\n",
        "\n",
        "#Imprimir y visualizar las primeras 5 lineas\n",
        "print(datos.head(5))"
      ]
    }
  ]
}