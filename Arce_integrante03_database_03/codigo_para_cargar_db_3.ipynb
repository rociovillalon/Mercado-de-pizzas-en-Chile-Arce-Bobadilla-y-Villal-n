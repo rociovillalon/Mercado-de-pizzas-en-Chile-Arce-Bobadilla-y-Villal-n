{
  "nbformat": 4,
  "nbformat_minor": 0,
  "metadata": {
    "colab": {
      "provenance": []
    },
    "kernelspec": {
      "name": "python3",
      "display_name": "Python 3"
    },
    "language_info": {
      "name": "python"
    }
  },
  "cells": [
    {
      "cell_type": "code",
      "execution_count": 1,
      "metadata": {
        "colab": {
          "base_uri": "https://localhost:8080/"
        },
        "id": "R1DE6JUUM0hg",
        "outputId": "bcd2ca21-ca3b-4a6b-b5c9-7319e34f9216"
      },
      "outputs": [
        {
          "output_type": "stream",
          "name": "stdout",
          "text": [
            "                                                ;;;;\n",
            "0  Año;Actividad económica;Total n° de empresas;T...\n",
            "1  2005;Actividades de restaurantes y de servicio...\n",
            "2  2006;Actividades de restaurantes y de servicio...\n",
            "3  2007;Actividades de restaurantes y de servicio...\n",
            "4  2008;Actividades de restaurantes y de servicio...\n"
          ]
        }
      ],
      "source": [
        "#Cargar csv en un Dataframe de Pandas\n",
        "\n",
        "import pandas as pd\n",
        "datos=pd.read_csv(\"/content/drive/MyDrive/Colab Notebooks/tablalimpia.csv\")\n",
        "\n",
        "#Imprimir y visualizar las primeras 5 lineas\n",
        "print(datos.head(5))"
      ]
    }
  ]
}